{
 "cells": [
  {
   "cell_type": "markdown",
   "metadata": {
    "application/vnd.databricks.v1+cell": {
     "cellMetadata": {},
     "inputWidgets": {},
     "nuid": "81405362-ce9d-47f1-b930-776de01d6582",
     "showTitle": false,
     "tableResultSettingsMap": {},
     "title": ""
    }
   },
   "source": [
    "TASK 1 : Data Loading and Exploration (RDD & DataFrame): "
   ]
  },
  {
   "cell_type": "code",
   "execution_count": 0,
   "metadata": {
    "application/vnd.databricks.v1+cell": {
     "cellMetadata": {
      "byteLimit": 2048000,
      "rowLimit": 10000
     },
     "inputWidgets": {},
     "nuid": "2046351b-5936-48e4-8d02-b673bd4e064d",
     "showTitle": false,
     "tableResultSettingsMap": {},
     "title": ""
    }
   },
   "outputs": [],
   "source": [
    "from pyspark.sql import SparkSession\n",
    "\n",
    "spark = SparkSession.builder \\\n",
    "    .appName(\"FlightDataAnalysis\") \\\n",
    "    .getOrCreate()\n"
   ]
  },
  {
   "cell_type": "code",
   "execution_count": 0,
   "metadata": {
    "application/vnd.databricks.v1+cell": {
     "cellMetadata": {
      "byteLimit": 2048000,
      "rowLimit": 10000
     },
     "inputWidgets": {},
     "nuid": "37c802d3-e783-4def-98d1-01274b1dbae3",
     "showTitle": false,
     "tableResultSettingsMap": {},
     "title": ""
    }
   },
   "outputs": [],
   "source": [
    "data = spark.read.csv(\"/FileStore/tables/flights_sample_3m.csv\", header=True, inferSchema=True)  "
   ]
  },
  {
   "cell_type": "code",
   "execution_count": 0,
   "metadata": {
    "application/vnd.databricks.v1+cell": {
     "cellMetadata": {
      "byteLimit": 2048000,
      "rowLimit": 10000
     },
     "inputWidgets": {},
     "nuid": "7fe14a03-ca9f-4a28-9078-96d9cd5f60d4",
     "showTitle": false,
     "tableResultSettingsMap": {},
     "title": ""
    }
   },
   "outputs": [
    {
     "output_type": "stream",
     "name": "stdout",
     "output_type": "stream",
     "text": [
      "+----------+--------------------+--------------------+------------+--------+---------+------+-------------------+----+--------------------+------------+--------+---------+--------+----------+---------+-------+------------+--------+---------+---------+-----------------+--------+----------------+------------+--------+--------+-----------------+-----------------+-------------+------------------+-----------------------+\n|   FL_DATE|             AIRLINE|         AIRLINE_DOT|AIRLINE_CODE|DOT_CODE|FL_NUMBER|ORIGIN|        ORIGIN_CITY|DEST|           DEST_CITY|CRS_DEP_TIME|DEP_TIME|DEP_DELAY|TAXI_OUT|WHEELS_OFF|WHEELS_ON|TAXI_IN|CRS_ARR_TIME|ARR_TIME|ARR_DELAY|CANCELLED|CANCELLATION_CODE|DIVERTED|CRS_ELAPSED_TIME|ELAPSED_TIME|AIR_TIME|DISTANCE|DELAY_DUE_CARRIER|DELAY_DUE_WEATHER|DELAY_DUE_NAS|DELAY_DUE_SECURITY|DELAY_DUE_LATE_AIRCRAFT|\n+----------+--------------------+--------------------+------------+--------+---------+------+-------------------+----+--------------------+------------+--------+---------+--------+----------+---------+-------+------------+--------+---------+---------+-----------------+--------+----------------+------------+--------+--------+-----------------+-----------------+-------------+------------------+-----------------------+\n|2019-01-09|United Air Lines ...|United Air Lines ...|          UA|   19977|     1562|   FLL|Fort Lauderdale, FL| EWR|          Newark, NJ|        1155|  1151.0|     -4.0|    19.0|    1210.0|   1443.0|    4.0|        1501|  1447.0|    -14.0|      0.0|             null|     0.0|           186.0|       176.0|   153.0|  1065.0|             null|             null|         null|              null|                   null|\n|2022-11-19|Delta Air Lines Inc.|Delta Air Lines I...|          DL|   19790|     1149|   MSP|    Minneapolis, MN| SEA|         Seattle, WA|        2120|  2114.0|     -6.0|     9.0|    2123.0|   2232.0|   38.0|        2315|  2310.0|     -5.0|      0.0|             null|     0.0|           235.0|       236.0|   189.0|  1399.0|             null|             null|         null|              null|                   null|\n|2022-07-22|United Air Lines ...|United Air Lines ...|          UA|   19977|      459|   DEN|         Denver, CO| MSP|     Minneapolis, MN|         954|  1000.0|      6.0|    20.0|    1020.0|   1247.0|    5.0|        1252|  1252.0|      0.0|      0.0|             null|     0.0|           118.0|       112.0|    87.0|   680.0|             null|             null|         null|              null|                   null|\n|2023-03-06|Delta Air Lines Inc.|Delta Air Lines I...|          DL|   19790|     2295|   MSP|    Minneapolis, MN| SFO|   San Francisco, CA|        1609|  1608.0|     -1.0|    27.0|    1635.0|   1844.0|    9.0|        1829|  1853.0|     24.0|      0.0|             null|     0.0|           260.0|       285.0|   249.0|  1589.0|              0.0|              0.0|         24.0|               0.0|                    0.0|\n|2020-02-23|    Spirit Air Lines|Spirit Air Lines: NK|          NK|   20416|      407|   MCO|        Orlando, FL| DFW|Dallas/Fort Worth...|        1840|  1838.0|     -2.0|    15.0|    1853.0|   2026.0|   14.0|        2041|  2040.0|     -1.0|      0.0|             null|     0.0|           181.0|       182.0|   153.0|   985.0|             null|             null|         null|              null|                   null|\n+----------+--------------------+--------------------+------------+--------+---------+------+-------------------+----+--------------------+------------+--------+---------+--------+----------+---------+-------+------------+--------+---------+---------+-----------------+--------+----------------+------------+--------+--------+-----------------+-----------------+-------------+------------------+-----------------------+\nonly showing top 5 rows\n\n"
     ]
    }
   ],
   "source": [
    "data.show(5)"
   ]
  },
  {
   "cell_type": "code",
   "execution_count": 0,
   "metadata": {
    "application/vnd.databricks.v1+cell": {
     "cellMetadata": {
      "byteLimit": 2048000,
      "rowLimit": 10000
     },
     "inputWidgets": {},
     "nuid": "81b6a64a-c278-4ca9-a108-dc139fde6ded",
     "showTitle": false,
     "tableResultSettingsMap": {},
     "title": ""
    }
   },
   "outputs": [
    {
     "output_type": "stream",
     "name": "stdout",
     "output_type": "stream",
     "text": [
      "Total Flights: 3000000\n+----------+--------------------+--------------------+------------+--------+---------+------+-------------------+----+--------------------+------------+--------+---------+--------+----------+---------+-------+------------+--------+---------+---------+-----------------+--------+----------------+------------+--------+--------+-----------------+-----------------+-------------+------------------+-----------------------+\n|   FL_DATE|             AIRLINE|         AIRLINE_DOT|AIRLINE_CODE|DOT_CODE|FL_NUMBER|ORIGIN|        ORIGIN_CITY|DEST|           DEST_CITY|CRS_DEP_TIME|DEP_TIME|DEP_DELAY|TAXI_OUT|WHEELS_OFF|WHEELS_ON|TAXI_IN|CRS_ARR_TIME|ARR_TIME|ARR_DELAY|CANCELLED|CANCELLATION_CODE|DIVERTED|CRS_ELAPSED_TIME|ELAPSED_TIME|AIR_TIME|DISTANCE|DELAY_DUE_CARRIER|DELAY_DUE_WEATHER|DELAY_DUE_NAS|DELAY_DUE_SECURITY|DELAY_DUE_LATE_AIRCRAFT|\n+----------+--------------------+--------------------+------------+--------+---------+------+-------------------+----+--------------------+------------+--------+---------+--------+----------+---------+-------+------------+--------+---------+---------+-----------------+--------+----------------+------------+--------+--------+-----------------+-----------------+-------------+------------------+-----------------------+\n|2019-01-09|United Air Lines ...|United Air Lines ...|          UA|   19977|     1562|   FLL|Fort Lauderdale, FL| EWR|          Newark, NJ|        1155|  1151.0|     -4.0|    19.0|    1210.0|   1443.0|    4.0|        1501|  1447.0|    -14.0|      0.0|             null|     0.0|           186.0|       176.0|   153.0|  1065.0|             null|             null|         null|              null|                   null|\n|2022-11-19|Delta Air Lines Inc.|Delta Air Lines I...|          DL|   19790|     1149|   MSP|    Minneapolis, MN| SEA|         Seattle, WA|        2120|  2114.0|     -6.0|     9.0|    2123.0|   2232.0|   38.0|        2315|  2310.0|     -5.0|      0.0|             null|     0.0|           235.0|       236.0|   189.0|  1399.0|             null|             null|         null|              null|                   null|\n|2022-07-22|United Air Lines ...|United Air Lines ...|          UA|   19977|      459|   DEN|         Denver, CO| MSP|     Minneapolis, MN|         954|  1000.0|      6.0|    20.0|    1020.0|   1247.0|    5.0|        1252|  1252.0|      0.0|      0.0|             null|     0.0|           118.0|       112.0|    87.0|   680.0|             null|             null|         null|              null|                   null|\n|2023-03-06|Delta Air Lines Inc.|Delta Air Lines I...|          DL|   19790|     2295|   MSP|    Minneapolis, MN| SFO|   San Francisco, CA|        1609|  1608.0|     -1.0|    27.0|    1635.0|   1844.0|    9.0|        1829|  1853.0|     24.0|      0.0|             null|     0.0|           260.0|       285.0|   249.0|  1589.0|              0.0|              0.0|         24.0|               0.0|                    0.0|\n|2020-02-23|    Spirit Air Lines|Spirit Air Lines: NK|          NK|   20416|      407|   MCO|        Orlando, FL| DFW|Dallas/Fort Worth...|        1840|  1838.0|     -2.0|    15.0|    1853.0|   2026.0|   14.0|        2041|  2040.0|     -1.0|      0.0|             null|     0.0|           181.0|       182.0|   153.0|   985.0|             null|             null|         null|              null|                   null|\n+----------+--------------------+--------------------+------------+--------+---------+------+-------------------+----+--------------------+------------+--------+---------+--------+----------+---------+-------+------------+--------+---------+---------+-----------------+--------+----------------+------------+--------+--------+-----------------+-----------------+-------------+------------------+-----------------------+\nonly showing top 5 rows\n\n"
     ]
    }
   ],
   "source": [
    "#Convert DataFrame to RDD and Perform Operations\n",
    "\n",
    "rdd = data.rdd\n",
    "# Count the number of flights  \n",
    "num_flights = rdd.count()\n",
    "print(f\"Total Flights: {num_flights}\")\n",
    "\n",
    "# Convert RDD back to DataFrame  \n",
    "data_from_rdd = spark.createDataFrame(rdd, schema=data.schema)\n",
    "data_from_rdd.show(5)"
   ]
  },
  {
   "cell_type": "code",
   "execution_count": 0,
   "metadata": {
    "application/vnd.databricks.v1+cell": {
     "cellMetadata": {
      "byteLimit": 2048000,
      "rowLimit": 10000
     },
     "inputWidgets": {},
     "nuid": "ef20bca1-19f6-43f7-aad5-f0c2f069f995",
     "showTitle": false,
     "tableResultSettingsMap": {},
     "title": ""
    }
   },
   "outputs": [
    {
     "output_type": "stream",
     "name": "stdout",
     "output_type": "stream",
     "text": [
      "Out[6]: ['FL_DATE',\n 'AIRLINE',\n 'AIRLINE_DOT',\n 'AIRLINE_CODE',\n 'DOT_CODE',\n 'FL_NUMBER',\n 'ORIGIN',\n 'ORIGIN_CITY',\n 'DEST',\n 'DEST_CITY',\n 'CRS_DEP_TIME',\n 'DEP_TIME',\n 'DEP_DELAY',\n 'TAXI_OUT',\n 'WHEELS_OFF',\n 'WHEELS_ON',\n 'TAXI_IN',\n 'CRS_ARR_TIME',\n 'ARR_TIME',\n 'ARR_DELAY',\n 'CANCELLED',\n 'CANCELLATION_CODE',\n 'DIVERTED',\n 'CRS_ELAPSED_TIME',\n 'ELAPSED_TIME',\n 'AIR_TIME',\n 'DISTANCE',\n 'DELAY_DUE_CARRIER',\n 'DELAY_DUE_WEATHER',\n 'DELAY_DUE_NAS',\n 'DELAY_DUE_SECURITY',\n 'DELAY_DUE_LATE_AIRCRAFT']"
     ]
    }
   ],
   "source": [
    "data.columns"
   ]
  },
  {
   "cell_type": "code",
   "execution_count": 0,
   "metadata": {
    "application/vnd.databricks.v1+cell": {
     "cellMetadata": {
      "byteLimit": 2048000,
      "rowLimit": 10000
     },
     "inputWidgets": {},
     "nuid": "fc0427f4-e97c-476a-b2c1-ae6cf86b23bf",
     "showTitle": false,
     "tableResultSettingsMap": {},
     "title": ""
    }
   },
   "outputs": [
    {
     "output_type": "stream",
     "name": "stdout",
     "output_type": "stream",
     "text": [
      "root\n |-- FL_DATE: date (nullable = true)\n |-- AIRLINE: string (nullable = true)\n |-- AIRLINE_DOT: string (nullable = true)\n |-- AIRLINE_CODE: string (nullable = true)\n |-- DOT_CODE: integer (nullable = true)\n |-- FL_NUMBER: integer (nullable = true)\n |-- ORIGIN: string (nullable = true)\n |-- ORIGIN_CITY: string (nullable = true)\n |-- DEST: string (nullable = true)\n |-- DEST_CITY: string (nullable = true)\n |-- CRS_DEP_TIME: integer (nullable = true)\n |-- DEP_TIME: double (nullable = true)\n |-- DEP_DELAY: double (nullable = true)\n |-- TAXI_OUT: double (nullable = true)\n |-- WHEELS_OFF: double (nullable = true)\n |-- WHEELS_ON: double (nullable = true)\n |-- TAXI_IN: double (nullable = true)\n |-- CRS_ARR_TIME: integer (nullable = true)\n |-- ARR_TIME: double (nullable = true)\n |-- ARR_DELAY: double (nullable = true)\n |-- CANCELLED: double (nullable = true)\n |-- CANCELLATION_CODE: string (nullable = true)\n |-- DIVERTED: double (nullable = true)\n |-- CRS_ELAPSED_TIME: double (nullable = true)\n |-- ELAPSED_TIME: double (nullable = true)\n |-- AIR_TIME: double (nullable = true)\n |-- DISTANCE: double (nullable = true)\n |-- DELAY_DUE_CARRIER: double (nullable = true)\n |-- DELAY_DUE_WEATHER: double (nullable = true)\n |-- DELAY_DUE_NAS: double (nullable = true)\n |-- DELAY_DUE_SECURITY: double (nullable = true)\n |-- DELAY_DUE_LATE_AIRCRAFT: double (nullable = true)\n\n"
     ]
    }
   ],
   "source": [
    "data.printSchema()"
   ]
  },
  {
   "cell_type": "markdown",
   "metadata": {
    "application/vnd.databricks.v1+cell": {
     "cellMetadata": {},
     "inputWidgets": {},
     "nuid": "2395e662-f196-44ab-87fe-6b8536bdb02b",
     "showTitle": false,
     "tableResultSettingsMap": {},
     "title": ""
    }
   },
   "source": [
    "2. Data Cleaning and Transformation (DataFrame)"
   ]
  },
  {
   "cell_type": "code",
   "execution_count": 0,
   "metadata": {
    "application/vnd.databricks.v1+cell": {
     "cellMetadata": {
      "byteLimit": 2048000,
      "rowLimit": 10000
     },
     "inputWidgets": {},
     "nuid": "dc15b88d-b78f-4948-a0b7-c60db85f4f6b",
     "showTitle": false,
     "tableResultSettingsMap": {},
     "title": ""
    }
   },
   "outputs": [
    {
     "output_type": "stream",
     "name": "stdout",
     "output_type": "stream",
     "text": [
      "+---------+---------+\n|DEP_DELAY|ARR_DELAY|\n+---------+---------+\n|     -4.0|    -14.0|\n|     -6.0|     -5.0|\n|      6.0|      0.0|\n|     -1.0|     24.0|\n|     -2.0|     -1.0|\n+---------+---------+\nonly showing top 5 rows\n\n"
     ]
    }
   ],
   "source": [
    "#Handle Missing Values\n",
    "from pyspark.sql.functions import col\n",
    "\n",
    "data = data.fillna({\"DEP_DELAY\": 0, \"ARR_DELAY\": 0})\n",
    "\n",
    "# Verify if missing values are replaced\n",
    "data.select(\"DEP_DELAY\", \"ARR_DELAY\").show(5)\n"
   ]
  },
  {
   "cell_type": "code",
   "execution_count": 0,
   "metadata": {
    "application/vnd.databricks.v1+cell": {
     "cellMetadata": {
      "byteLimit": 2048000,
      "rowLimit": 10000
     },
     "inputWidgets": {},
     "nuid": "ab27b368-4c89-443a-86aa-58f395876270",
     "showTitle": false,
     "tableResultSettingsMap": {},
     "title": ""
    }
   },
   "outputs": [
    {
     "output_type": "stream",
     "name": "stdout",
     "output_type": "stream",
     "text": [
      "root\n |-- FL_DATE: date (nullable = true)\n |-- AIRLINE: string (nullable = true)\n |-- AIRLINE_DOT: string (nullable = true)\n |-- AIRLINE_CODE: string (nullable = true)\n |-- DOT_CODE: integer (nullable = true)\n |-- FL_NUMBER: integer (nullable = true)\n |-- ORIGIN: string (nullable = true)\n |-- ORIGIN_CITY: string (nullable = true)\n |-- DEST: string (nullable = true)\n |-- DEST_CITY: string (nullable = true)\n |-- CRS_DEP_TIME: integer (nullable = true)\n |-- DEP_TIME: double (nullable = true)\n |-- DEP_DELAY: double (nullable = false)\n |-- TAXI_OUT: double (nullable = true)\n |-- WHEELS_OFF: double (nullable = true)\n |-- WHEELS_ON: double (nullable = true)\n |-- TAXI_IN: double (nullable = true)\n |-- CRS_ARR_TIME: integer (nullable = true)\n |-- ARR_TIME: double (nullable = true)\n |-- ARR_DELAY: double (nullable = false)\n |-- CANCELLED: double (nullable = true)\n |-- CANCELLATION_CODE: string (nullable = true)\n |-- DIVERTED: double (nullable = true)\n |-- CRS_ELAPSED_TIME: double (nullable = true)\n |-- ELAPSED_TIME: double (nullable = true)\n |-- AIR_TIME: double (nullable = true)\n |-- DISTANCE: double (nullable = true)\n |-- DELAY_DUE_CARRIER: double (nullable = true)\n |-- DELAY_DUE_WEATHER: double (nullable = true)\n |-- DELAY_DUE_NAS: double (nullable = true)\n |-- DELAY_DUE_SECURITY: double (nullable = true)\n |-- DELAY_DUE_LATE_AIRCRAFT: double (nullable = true)\n\n"
     ]
    }
   ],
   "source": [
    "#Convert FL_DATE to Date Type\n",
    "from pyspark.sql.functions import to_date\n",
    "\n",
    "data = data.withColumn(\"FL_DATE\", to_date(col(\"FL_DATE\"), \"yyyy-MM-dd\"))\n",
    "\n",
    "# Verify the data type\n",
    "data.printSchema()\n"
   ]
  },
  {
   "cell_type": "code",
   "execution_count": 0,
   "metadata": {
    "application/vnd.databricks.v1+cell": {
     "cellMetadata": {
      "byteLimit": 2048000,
      "rowLimit": 10000
     },
     "inputWidgets": {},
     "nuid": "06b77371-1d80-42f4-a489-ef6886181ca4",
     "showTitle": false,
     "tableResultSettingsMap": {},
     "title": ""
    }
   },
   "outputs": [
    {
     "output_type": "stream",
     "name": "stdout",
     "output_type": "stream",
     "text": [
      "+---------+---------+----------+\n|DEP_DELAY|ARR_DELAY|TotalDelay|\n+---------+---------+----------+\n|     -4.0|    -14.0|     -18.0|\n|     -6.0|     -5.0|     -11.0|\n|      6.0|      0.0|       6.0|\n|     -1.0|     24.0|      23.0|\n|     -2.0|     -1.0|      -3.0|\n+---------+---------+----------+\nonly showing top 5 rows\n\n"
     ]
    }
   ],
   "source": [
    "#Create a New Column TotalDelay\n",
    "from pyspark.sql.functions import expr\n",
    "\n",
    "data = data.withColumn(\"TotalDelay\", expr(\"DEP_DELAY + ARR_DELAY\"))\n",
    "\n",
    "# Show result\n",
    "data.select(\"DEP_DELAY\", \"ARR_DELAY\", \"TotalDelay\").show(5)\n"
   ]
  },
  {
   "cell_type": "code",
   "execution_count": 0,
   "metadata": {
    "application/vnd.databricks.v1+cell": {
     "cellMetadata": {
      "byteLimit": 2048000,
      "rowLimit": 10000
     },
     "inputWidgets": {},
     "nuid": "ab525a0e-3c82-4931-82df-0c3ae95efee5",
     "showTitle": false,
     "tableResultSettingsMap": {},
     "title": ""
    }
   },
   "outputs": [
    {
     "output_type": "stream",
     "name": "stdout",
     "output_type": "stream",
     "text": [
      "+----------+--------------------+---------+\n|   FL_DATE|             AIRLINE|CANCELLED|\n+----------+--------------------+---------+\n|2019-01-09|United Air Lines ...|      0.0|\n|2022-11-19|Delta Air Lines Inc.|      0.0|\n|2022-07-22|United Air Lines ...|      0.0|\n|2023-03-06|Delta Air Lines Inc.|      0.0|\n|2020-02-23|    Spirit Air Lines|      0.0|\n+----------+--------------------+---------+\nonly showing top 5 rows\n\n"
     ]
    }
   ],
   "source": [
    "#Remove flights where CANCELLED = 1\n",
    "data = data.filter(col(\"CANCELLED\") == 0)\n",
    "\n",
    "# Verify cancellation filter\n",
    "data.select(\"FL_DATE\", \"AIRLINE\", \"CANCELLED\").show(5)\n"
   ]
  },
  {
   "cell_type": "code",
   "execution_count": 0,
   "metadata": {
    "application/vnd.databricks.v1+cell": {
     "cellMetadata": {
      "byteLimit": 2048000,
      "rowLimit": 10000
     },
     "inputWidgets": {},
     "nuid": "0fbc74ea-dea7-4b6f-82b9-9a3e3af664d3",
     "showTitle": false,
     "tableResultSettingsMap": {},
     "title": ""
    }
   },
   "outputs": [
    {
     "output_type": "stream",
     "name": "stdout",
     "output_type": "stream",
     "text": [
      "+----------+--------------------+---------+\n|   FL_DATE|             AIRLINE|CANCELLED|\n+----------+--------------------+---------+\n|2019-01-09|United Air Lines ...|      0.0|\n|2022-11-19|Delta Air Lines Inc.|      0.0|\n|2022-07-22|United Air Lines ...|      0.0|\n|2023-03-06|Delta Air Lines Inc.|      0.0|\n|2020-02-23|    Spirit Air Lines|      0.0|\n+----------+--------------------+---------+\nonly showing top 5 rows\n\n"
     ]
    }
   ],
   "source": [
    "#Remove flights where CANCELLED = 1\n",
    "data = data.filter(col(\"CANCELLED\") == 0)\n",
    "\n",
    "data.select(\"FL_DATE\", \"AIRLINE\", \"CANCELLED\").show(5)\n"
   ]
  },
  {
   "cell_type": "code",
   "execution_count": 0,
   "metadata": {
    "application/vnd.databricks.v1+cell": {
     "cellMetadata": {
      "byteLimit": 2048000,
      "rowLimit": 10000
     },
     "inputWidgets": {},
     "nuid": "86063431-9526-4997-8ec4-04bc9d0fa3b5",
     "showTitle": false,
     "tableResultSettingsMap": {},
     "title": ""
    }
   },
   "outputs": [],
   "source": [
    "data.write.mode(\"overwrite\").csv(\"/FileStore/tables/cleaned_flight_data.csv\", header=True)\n"
   ]
  },
  {
   "cell_type": "markdown",
   "metadata": {
    "application/vnd.databricks.v1+cell": {
     "cellMetadata": {},
     "inputWidgets": {},
     "nuid": "072714d0-2628-41b3-96e3-2ab4451f018f",
     "showTitle": false,
     "tableResultSettingsMap": {},
     "title": ""
    }
   },
   "source": [
    "3. Data Analysis and Aggregation (DataFrame): "
   ]
  },
  {
   "cell_type": "code",
   "execution_count": 0,
   "metadata": {
    "application/vnd.databricks.v1+cell": {
     "cellMetadata": {
      "byteLimit": 2048000,
      "rowLimit": 10000
     },
     "inputWidgets": {},
     "nuid": "c44afafc-2e31-41e8-ab59-8a9362fe8187",
     "showTitle": false,
     "tableResultSettingsMap": {},
     "title": ""
    }
   },
   "outputs": [
    {
     "output_type": "stream",
     "name": "stdout",
     "output_type": "stream",
     "text": [
      "+--------------------+------------------+\n|             AIRLINE|     Avg_Dep_Delay|\n+--------------------+------------------+\n|     JetBlue Airways| 18.24340421656573|\n|Frontier Airlines...|15.997834394904459|\n|       Allegiant Air|13.904974679773607|\n|    Spirit Air Lines|12.954614075097163|\n|ExpressJet Airlin...|12.773196448390676|\n|American Airlines...|12.569004752833834|\n|  Mesa Airlines Inc.|12.227925094589633|\n|United Air Lines ...|11.184855081777577|\n|Southwest Airline...|10.808051992351954|\n|SkyWest Airlines ...|  9.44232005523941|\n|Delta Air Lines Inc.|  8.09660455688658|\n|   PSA Airlines Inc.| 7.913136512159153|\n|           Envoy Air| 6.672530032391624|\n|   Endeavor Air Inc.| 5.921167631213148|\n|    Republic Airline| 5.742866222257531|\n|Hawaiian Airlines...| 5.086332976107924|\n|         Horizon Air| 4.804442250740375|\n|Alaska Airlines Inc.| 4.622522403661717|\n+--------------------+------------------+\n\n"
     ]
    }
   ],
   "source": [
    "# Calculate the Average Departure Delay per Airline (Sorted Descending)\n",
    "from pyspark.sql.functions import avg, desc\n",
    "\n",
    "avg_dep_delay = data.groupBy(\"AIRLINE\") \\\n",
    "                  .agg(avg(\"DEP_DELAY\").alias(\"Avg_Dep_Delay\")) \\\n",
    "                  .orderBy(desc(\"Avg_Dep_Delay\"))\n",
    "\n",
    "# Show the result\n",
    "avg_dep_delay.show()\n"
   ]
  },
  {
   "cell_type": "code",
   "execution_count": 0,
   "metadata": {
    "application/vnd.databricks.v1+cell": {
     "cellMetadata": {
      "byteLimit": 2048000,
      "rowLimit": 10000
     },
     "inputWidgets": {},
     "nuid": "d4412702-d5e8-44ae-9560-3d7974d14ce8",
     "showTitle": false,
     "tableResultSettingsMap": {},
     "title": ""
    }
   },
   "outputs": [
    {
     "output_type": "stream",
     "name": "stdout",
     "output_type": "stream",
     "text": [
      "+------+----+------------+\n|ORIGIN|DEST|Flight_Count|\n+------+----+------------+\n|   SFO| LAX|        5219|\n|   LAX| SFO|        5078|\n|   OGG| HNL|        4589|\n|   LAX| LAS|        4543|\n|   LGA| ORD|        4516|\n+------+----+------------+\n\n"
     ]
    }
   ],
   "source": [
    "#Find the Top 5 Most Frequent Origin-Destination Pairs\n",
    "from pyspark.sql.functions import count\n",
    "\n",
    "top_routes = data.groupBy(\"ORIGIN\", \"DEST\") \\\n",
    "               .agg(count(\"*\").alias(\"Flight_Count\")) \\\n",
    "               .orderBy(desc(\"Flight_Count\")) \\\n",
    "               .limit(5)\n",
    "\n",
    "# Show the result\n",
    "top_routes.show()"
   ]
  },
  {
   "cell_type": "code",
   "execution_count": 0,
   "metadata": {
    "application/vnd.databricks.v1+cell": {
     "cellMetadata": {
      "byteLimit": 2048000,
      "rowLimit": 10000
     },
     "inputWidgets": {},
     "nuid": "5d9c1395-0aa6-48b4-a41f-fe548b4d4a7c",
     "showTitle": false,
     "tableResultSettingsMap": {},
     "title": ""
    }
   },
   "outputs": [
    {
     "output_type": "stream",
     "name": "stdout",
     "output_type": "stream",
     "text": [
      "Percentage of flights delayed more than 15 minutes: 17.56%\n"
     ]
    }
   ],
   "source": [
    "#Calculate the Percentage of Flights Delayed More than 15 Minutes\n",
    "from pyspark.sql.functions import count\n",
    "\n",
    "total_flights = data.count()\n",
    "delayed_flights = data.filter(col(\"DEP_DELAY\") > 15).count()\n",
    "\n",
    "# Calculate percentage\n",
    "percentage_delayed = (delayed_flights / total_flights) * 100\n",
    "\n",
    "print(f\"Percentage of flights delayed more than 15 minutes: {percentage_delayed:.2f}%\")"
   ]
  },
  {
   "cell_type": "code",
   "execution_count": 0,
   "metadata": {
    "application/vnd.databricks.v1+cell": {
     "cellMetadata": {
      "byteLimit": 2048000,
      "rowLimit": 10000
     },
     "inputWidgets": {},
     "nuid": "f0d3b5bf-8185-47b6-98c5-37da1b0e73e7",
     "showTitle": false,
     "tableResultSettingsMap": {},
     "title": ""
    }
   },
   "outputs": [
    {
     "output_type": "stream",
     "name": "stdout",
     "output_type": "stream",
     "text": [
      "+----+------------------+\n|DEST|     Avg_Arr_Delay|\n+----+------------------+\n| IPT| 72.27272727272727|\n| UIN| 30.87272727272727|\n| SHD|29.890196078431373|\n| PVU|26.567251461988302|\n| CDB| 21.41176470588235|\n| OGS| 20.59550561797753|\n| ILG|20.307692307692307|\n| PGD|20.253991830672113|\n| BQN|20.074944071588366|\n| ART|              17.5|\n+----+------------------+\nonly showing top 10 rows\n\n"
     ]
    }
   ],
   "source": [
    "#Calculate the Average Arrival Delay per Destination Airport\n",
    "avg_arr_delay = data.groupBy(\"DEST\") \\\n",
    "                  .agg(avg(\"ARR_DELAY\").alias(\"Avg_Arr_Delay\")) \\\n",
    "                  .orderBy(desc(\"Avg_Arr_Delay\"))\n",
    "\n",
    "# Show the result\n",
    "avg_arr_delay.show(10)"
   ]
  },
  {
   "cell_type": "markdown",
   "metadata": {
    "application/vnd.databricks.v1+cell": {
     "cellMetadata": {},
     "inputWidgets": {},
     "nuid": "ae1a6161-c043-4de1-9892-a937234aad3a",
     "showTitle": false,
     "tableResultSettingsMap": {},
     "title": ""
    }
   },
   "source": [
    "4. Advanced Analysis (DataFrame): "
   ]
  },
  {
   "cell_type": "code",
   "execution_count": 0,
   "metadata": {
    "application/vnd.databricks.v1+cell": {
     "cellMetadata": {
      "byteLimit": 2048000,
      "rowLimit": 10000
     },
     "inputWidgets": {},
     "nuid": "f517f31a-aae2-4471-a771-df02311120cf",
     "showTitle": false,
     "tableResultSettingsMap": {},
     "title": ""
    }
   },
   "outputs": [
    {
     "output_type": "stream",
     "name": "stdout",
     "output_type": "stream",
     "text": [
      "+----------+-------------+----------+----------------------+\n|   FL_DATE|      AIRLINE|TotalDelay|Running_Avg_TotalDelay|\n+----------+-------------+----------+----------------------+\n|2019-01-01|Allegiant Air|     196.0|                 196.0|\n|2019-01-01|Allegiant Air|     -14.0|                  91.0|\n|2019-01-01|Allegiant Air|      13.0|                  65.0|\n|2019-01-01|Allegiant Air|      -5.0|                  47.5|\n|2019-01-01|Allegiant Air|       5.0|                 -0.25|\n|2019-01-01|Allegiant Air|      34.0|                 11.75|\n|2019-01-01|Allegiant Air|       7.0|                 10.25|\n|2019-01-01|Allegiant Air|     -53.0|                 -1.75|\n|2019-01-01|Allegiant Air|     -38.0|                 -12.5|\n|2019-01-01|Allegiant Air|     -45.0|                -32.25|\n+----------+-------------+----------+----------------------+\nonly showing top 10 rows\n\n"
     ]
    }
   ],
   "source": [
    "#Calculate Running Average of TotalDelay for Each Airline\n",
    "from pyspark.sql.window import Window\n",
    "from pyspark.sql.functions import avg\n",
    "\n",
    "# Define a window partitioned by AIRLINE and ordered by FL_DATE\n",
    "window_spec = Window.partitionBy(\"AIRLINE\").orderBy(\"FL_DATE\").rowsBetween(-3, 0)\n",
    "\n",
    "# Calculate the running average (last 4 days including current)\n",
    "data = data.withColumn(\"Running_Avg_TotalDelay\", avg(\"TotalDelay\").over(window_spec))\n",
    "\n",
    "# Show results\n",
    "data.select(\"FL_DATE\", \"AIRLINE\", \"TotalDelay\", \"Running_Avg_TotalDelay\").show(10)\n"
   ]
  },
  {
   "cell_type": "code",
   "execution_count": 0,
   "metadata": {
    "application/vnd.databricks.v1+cell": {
     "cellMetadata": {
      "byteLimit": 2048000,
      "rowLimit": 10000
     },
     "inputWidgets": {},
     "nuid": "e1aed14d-56f9-44e6-b904-bc859916cee6",
     "showTitle": false,
     "tableResultSettingsMap": {},
     "title": ""
    }
   },
   "outputs": [
    {
     "output_type": "stream",
     "name": "stdout",
     "output_type": "stream",
     "text": [
      "+-----+--------------------+------------+\n|Month|             AIRLINE|Flight_Count|\n+-----+--------------------+------------+\n|    1|Southwest Airline...|       48856|\n|    2|Southwest Airline...|       43921|\n|    3|Southwest Airline...|       52026|\n|    4|Southwest Airline...|       46211|\n|    5|Southwest Airline...|       48179|\n|    6|Southwest Airline...|       50913|\n|    7|Southwest Airline...|       55687|\n|    8|Southwest Airline...|       54918|\n|    9|Southwest Airline...|       38416|\n|   10|Southwest Airline...|       40195|\n|   11|Southwest Airline...|       39315|\n|   12|Southwest Airline...|       38368|\n+-----+--------------------+------------+\n\n"
     ]
    }
   ],
   "source": [
    "\n",
    "#Find the Airline with the Most Flights Each Month\n",
    "\n",
    "from pyspark.sql.functions import month, row_number\n",
    "from pyspark.sql.window import Window\n",
    "\n",
    "# Extract the month from the FlightDate\n",
    "data = data.withColumn(\"Month\", month(\"FL_DATE\"))\n",
    "\n",
    "# Group by Month & Airline, count flights\n",
    "monthly_flight_counts = data.groupBy(\"Month\", \"AIRLINE\") \\\n",
    "                          .count() \\\n",
    "                          .withColumnRenamed(\"count\", \"Flight_Count\")\n",
    "\n",
    "# Define window partitioned by month, ordered by flight count (descending)\n",
    "window_spec = Window.partitionBy(\"Month\").orderBy(col(\"Flight_Count\").desc())\n",
    "\n",
    "# Get top airline per month\n",
    "top_airlines = monthly_flight_counts.withColumn(\"rank\", row_number().over(window_spec)) \\\n",
    "                                    .filter(col(\"rank\") == 1) \\\n",
    "                                    .drop(\"rank\")\n",
    "\n",
    "# Show results\n",
    "top_airlines.show()\n"
   ]
  },
  {
   "cell_type": "markdown",
   "metadata": {
    "application/vnd.databricks.v1+cell": {
     "cellMetadata": {},
     "inputWidgets": {},
     "nuid": "9dd6ed04-9566-4d34-ae4c-921f4d44b7a8",
     "showTitle": false,
     "tableResultSettingsMap": {},
     "title": ""
    }
   },
   "source": [
    "5. Saving Results (DataFrame): \n"
   ]
  },
  {
   "cell_type": "code",
   "execution_count": 0,
   "metadata": {
    "application/vnd.databricks.v1+cell": {
     "cellMetadata": {
      "byteLimit": 2048000,
      "rowLimit": 10000
     },
     "inputWidgets": {},
     "nuid": "f4ac4cc9-4d55-4682-92df-931a7dc53196",
     "showTitle": false,
     "tableResultSettingsMap": {},
     "title": ""
    }
   },
   "outputs": [
    {
     "output_type": "stream",
     "name": "stdout",
     "output_type": "stream",
     "text": [
      "+--------------------+------------------+\n|             AIRLINE|     Avg_Dep_Delay|\n+--------------------+------------------+\n|   Endeavor Air Inc.| 5.921167631213148|\n|       Allegiant Air|13.904974679773607|\n|ExpressJet Airlin...|12.773196448390676|\n|SkyWest Airlines ...|  9.44232005523941|\n|   PSA Airlines Inc.| 7.913136512159153|\n|         Horizon Air| 4.804442250740375|\n|United Air Lines ...|11.184855081777577|\n|    Republic Airline| 5.742866222257531|\n|Frontier Airlines...|15.997834394904459|\n|Southwest Airline...|10.808051992351954|\n|     JetBlue Airways| 18.24340421656573|\n|           Envoy Air| 6.672530032391624|\n|Hawaiian Airlines...| 5.086332976107924|\n|Alaska Airlines Inc.| 4.622522403661717|\n|Delta Air Lines Inc.|  8.09660455688658|\n|  Mesa Airlines Inc.|12.227925094589633|\n|American Airlines...|12.569004752833834|\n|    Spirit Air Lines|12.954614075097163|\n+--------------------+------------------+\n\n"
     ]
    }
   ],
   "source": [
    "from pyspark.sql.functions import avg\n",
    "\n",
    "avg_dep_delay = data.groupBy(\"AIRLINE\") \\\n",
    "                  .agg(avg(\"DEP_DELAY\").alias(\"Avg_Dep_Delay\"))\n",
    "\n",
    "# Show results\n",
    "avg_dep_delay.show()\n"
   ]
  },
  {
   "cell_type": "code",
   "execution_count": 0,
   "metadata": {
    "application/vnd.databricks.v1+cell": {
     "cellMetadata": {
      "byteLimit": 2048000,
      "rowLimit": 10000
     },
     "inputWidgets": {},
     "nuid": "c3e4c0ad-83ae-45e4-aa62-1171fb8854c0",
     "showTitle": false,
     "tableResultSettingsMap": {},
     "title": ""
    }
   },
   "outputs": [],
   "source": [
    "output_path = \"/FileStore/tables/avg_dep_delay_by_airline.csv\"\n",
    "\n",
    "avg_dep_delay.write.mode(\"overwrite\").csv(output_path, header=True)"
   ]
  },
  {
   "cell_type": "markdown",
   "metadata": {
    "application/vnd.databricks.v1+cell": {
     "cellMetadata": {},
     "inputWidgets": {},
     "nuid": "05d2ed55-b890-4688-9484-cb832897a77c",
     "showTitle": false,
     "tableResultSettingsMap": {},
     "title": ""
    }
   },
   "source": [
    "6. SQL"
   ]
  },
  {
   "cell_type": "code",
   "execution_count": 0,
   "metadata": {
    "application/vnd.databricks.v1+cell": {
     "cellMetadata": {},
     "inputWidgets": {},
     "nuid": "624195ee-1370-4bef-82e5-c299fcf8f1da",
     "showTitle": false,
     "tableResultSettingsMap": {},
     "title": ""
    }
   },
   "outputs": [],
   "source": []
  }
 ],
 "metadata": {
  "application/vnd.databricks.v1+notebook": {
   "computePreferences": null,
   "dashboards": [
    {
     "elements": [
      {
       "dashboardResultIndex": null,
       "elementNUID": "05d2ed55-b890-4688-9484-cb832897a77c",
       "elementType": "command",
       "guid": "2dd8daaf-acf1-4e0f-9e8e-3836e5d36655",
       "options": null,
       "position": {
        "height": 2,
        "width": 12,
        "x": 0,
        "y": 9,
        "z": null
       },
       "resultIndex": null
      },
      {
       "dashboardResultIndex": null,
       "elementNUID": "2395e662-f196-44ab-87fe-6b8536bdb02b",
       "elementType": "command",
       "guid": "5675518e-98d5-4d50-b2cf-1368a2d00c70",
       "options": null,
       "position": {
        "height": 2,
        "width": 12,
        "x": 0,
        "y": 1,
        "z": null
       },
       "resultIndex": null
      },
      {
       "dashboardResultIndex": null,
       "elementNUID": "072714d0-2628-41b3-96e3-2ab4451f018f",
       "elementType": "command",
       "guid": "918e7e21-35e4-4909-8b7c-a0d124382b5e",
       "options": null,
       "position": {
        "height": 2,
        "width": 12,
        "x": 0,
        "y": 3,
        "z": null
       },
       "resultIndex": null
      },
      {
       "dashboardResultIndex": null,
       "elementNUID": "81405362-ce9d-47f1-b930-776de01d6582",
       "elementType": "command",
       "guid": "ac9b7cd1-a127-4c08-8ef6-bdb7479b8c5d",
       "options": null,
       "position": {
        "height": 1,
        "width": 12,
        "x": 0,
        "y": 0,
        "z": null
       },
       "resultIndex": null
      },
      {
       "dashboardResultIndex": null,
       "elementNUID": "ae1a6161-c043-4de1-9892-a937234aad3a",
       "elementType": "command",
       "guid": "c76ebfab-257b-4c3b-bf6a-2163bfd0b63f",
       "options": null,
       "position": {
        "height": 2,
        "width": 12,
        "x": 0,
        "y": 5,
        "z": null
       },
       "resultIndex": null
      },
      {
       "dashboardResultIndex": null,
       "elementNUID": "9dd6ed04-9566-4d34-ae4c-921f4d44b7a8",
       "elementType": "command",
       "guid": "da7f79e5-7f39-4328-b7c7-ad6ce395c75f",
       "options": null,
       "position": {
        "height": 2,
        "width": 12,
        "x": 0,
        "y": 7,
        "z": null
       },
       "resultIndex": null
      }
     ],
     "globalVars": {},
     "guid": "",
     "layoutOption": {
      "grid": true,
      "stack": true
     },
     "nuid": "ea5dbae4-8302-437e-8162-158b501d0b56",
     "origId": 3289367117452693,
     "title": "Untitled",
     "version": "DashboardViewV1",
     "width": 1024
    }
   ],
   "environmentMetadata": {
    "base_environment": "",
    "client": "1"
   },
   "language": "python",
   "notebookMetadata": {
    "mostRecentlyExecutedCommandWithImplicitDF": {
     "commandId": 3289367117452691,
     "dataframes": [
      "_sqldf"
     ]
    },
    "pythonIndentUnit": 4
   },
   "notebookName": "Assignment-3",
   "widgets": {}
  }
 },
 "nbformat": 4,
 "nbformat_minor": 0
}
